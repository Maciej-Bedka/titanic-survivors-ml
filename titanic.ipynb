{
 "cells": [
  {
   "cell_type": "markdown",
   "id": "61689c2d",
   "metadata": {},
   "source": [
    "# Survivors of Titanic"
   ]
  },
  {
   "cell_type": "markdown",
   "id": "721fa66e",
   "metadata": {},
   "source": [
    "## About a problem"
   ]
  },
  {
   "cell_type": "markdown",
   "id": "9c1905f2",
   "metadata": {},
   "source": [
    "Titanic crashed in 1912  on it's maiden voyage. This lead to over 1,500 casualities and around 710 survivors. High rate of causalities was determined by not engough safety boats being on the Titanic. <br>\n",
    "Based on data about passengers, it is possible to determine who, of new passengers, if crush would reocure, will have most chances to survive. It is also possible to check what features were most important for choosing survivors."
   ]
  },
  {
   "cell_type": "markdown",
   "id": "eebbb202",
   "metadata": {},
   "source": [
    "## Data"
   ]
  },
  {
   "cell_type": "markdown",
   "id": "4f8b840b",
   "metadata": {},
   "source": [
    "All data, as well as an idea for such project, was taken from https://www.kaggle.com/competitions/titanic. In this project ony \"train.csv\" will be used.<br><br>\n",
    "\n",
    "Data file contains 891 entries with 12 features:<br>\n",
    "    &emsp;PassengerId - Id for each passenger (0-890)<br>\n",
    "    &emsp;Survived - label ofr survived (0 - not survived, 1 - survived)<br>\n",
    "    &emsp;Pclass - class of ticket (1 - 1st class, 2 - 2nd class, 3 - 3rd class)<br>\n",
    "    &emsp;Sex - (male, female)<br>\n",
    "    &emsp;Age - age in years<br>\n",
    "    &emsp;Sibsp - number of siblings / spouses aboard the Titanic<br>\n",
    "    &emsp;Parch - numer of parents / children aboard the Titanic<br>\n",
    "    &emsp;Ticket - ticket number<br>\n",
    "    &emsp;Fare - passenger fare<br>\n",
    "    &emsp;Cabin - cabin number<br>\n",
    "    &emsp;Embarked - port of embarkation (C - Cherbourg, Q - Quennstown, S - Southampton<br>"
   ]
  },
  {
   "cell_type": "code",
   "execution_count": 1,
   "id": "d5380651",
   "metadata": {},
   "outputs": [
    {
     "name": "stdout",
     "output_type": "stream",
     "text": [
      "<class 'pandas.core.frame.DataFrame'>\n",
      "RangeIndex: 891 entries, 0 to 890\n",
      "Data columns (total 12 columns):\n",
      " #   Column       Non-Null Count  Dtype  \n",
      "---  ------       --------------  -----  \n",
      " 0   PassengerId  891 non-null    int64  \n",
      " 1   Survived     891 non-null    int64  \n",
      " 2   Pclass       891 non-null    int64  \n",
      " 3   Name         891 non-null    object \n",
      " 4   Sex          891 non-null    object \n",
      " 5   Age          714 non-null    float64\n",
      " 6   SibSp        891 non-null    int64  \n",
      " 7   Parch        891 non-null    int64  \n",
      " 8   Ticket       891 non-null    object \n",
      " 9   Fare         891 non-null    float64\n",
      " 10  Cabin        204 non-null    object \n",
      " 11  Embarked     889 non-null    object \n",
      "dtypes: float64(2), int64(5), object(5)\n",
      "memory usage: 83.7+ KB\n",
      "None\n"
     ]
    }
   ],
   "source": [
    "import numpy as np\n",
    "import pandas as pd\n",
    "\n",
    "train_data = pd.read_csv(\"./train.csv\")\n",
    "print(train_data.info())"
   ]
  },
  {
   "cell_type": "markdown",
   "id": "eedc4c8b",
   "metadata": {},
   "source": [
    "Based on the above, we can exclude \"Cabin\" feature, as it conatins to much \"NaN\" values.<br>\n",
    "Age values contains some \"NaNs\" so we will dill them with random values from min to max recorded ages.<br>\n",
    "Also we will exclude names, as this should not be important for classification."
   ]
  },
  {
   "cell_type": "code",
   "execution_count": 2,
   "id": "3514f2e5",
   "metadata": {},
   "outputs": [],
   "source": [
    "train_data.drop(columns=['PassengerId','Cabin', 'Name'], inplace=True, errors='ignore')\n",
    "train_data[\"Age\"].fillna(value=np.random.randint(train_data[\"Age\"].min(), train_data[\"Age\"].max(), dtype=int), inplace=True)"
   ]
  },
  {
   "cell_type": "code",
   "execution_count": 3,
   "id": "b1e46927",
   "metadata": {},
   "outputs": [
    {
     "name": "stdout",
     "output_type": "stream",
     "text": [
      "<class 'pandas.core.frame.DataFrame'>\n",
      "RangeIndex: 891 entries, 0 to 890\n",
      "Data columns (total 9 columns):\n",
      " #   Column    Non-Null Count  Dtype  \n",
      "---  ------    --------------  -----  \n",
      " 0   Survived  891 non-null    int64  \n",
      " 1   Pclass    891 non-null    int64  \n",
      " 2   Sex       891 non-null    object \n",
      " 3   Age       891 non-null    float64\n",
      " 4   SibSp     891 non-null    int64  \n",
      " 5   Parch     891 non-null    int64  \n",
      " 6   Ticket    891 non-null    object \n",
      " 7   Fare      891 non-null    float64\n",
      " 8   Embarked  889 non-null    object \n",
      "dtypes: float64(2), int64(4), object(3)\n",
      "memory usage: 62.8+ KB\n",
      "None\n"
     ]
    }
   ],
   "source": [
    "print(train_data.info())"
   ]
  },
  {
   "cell_type": "markdown",
   "id": "01e08883",
   "metadata": {},
   "source": [
    "Now we will try to build Gaussian Naive Bayes model with all featerues exluding \"Survived\" (label)."
   ]
  },
  {
   "cell_type": "code",
   "execution_count": 4,
   "id": "75861193",
   "metadata": {},
   "outputs": [
    {
     "name": "stdout",
     "output_type": "stream",
     "text": [
      "Cross Validation Scores:  [0.76666667 0.76404494 0.7752809  0.82022472 0.79775281 0.76404494\n",
      " 0.79775281 0.80898876 0.78651685 0.79775281]\n",
      "Average model score: 0.788\n"
     ]
    }
   ],
   "source": [
    "from sklearn.naive_bayes import GaussianNB\n",
    "from sklearn.metrics import accuracy_score\n",
    "from sklearn.model_selection import train_test_split\n",
    "from sklearn.model_selection import StratifiedKFold, cross_val_score\n",
    "\n",
    "model = GaussianNB()\n",
    "features = [\"Pclass\", \"Sex\", \"Age\", \"SibSp\", \"Parch\", \"Fare\", \"Embarked\"]\n",
    "X = pd.get_dummies(train_data[features])\n",
    "Y = train_data[\"Survived\"]\n",
    "\n",
    "strat_k_fold = StratifiedKFold(n_splits=10)\n",
    "\n",
    "scores = cross_val_score(model, X, Y, cv = strat_k_fold)\n",
    "\n",
    "print(\"Cross Validation Scores: \", scores)\n",
    "print(\"Average model score: %.3f\" %scores.mean())\n"
   ]
  },
  {
   "cell_type": "markdown",
   "id": "a38f5292",
   "metadata": {},
   "source": [
    "We will try to improve accuracy of the model by reducing number of not important features.<br>\n",
    "We can achive that with forest tree classifier."
   ]
  },
  {
   "cell_type": "code",
   "execution_count": 5,
   "id": "3bb88b99",
   "metadata": {},
   "outputs": [
    {
     "data": {
      "image/png": "[encoded data removed]",
      "text/plain": [
       "<Figure size 432x288 with 1 Axes>"
      ]
     },
     "metadata": {
      "needs_background": "light"
     },
     "output_type": "display_data"
    }
   ],
   "source": [
    "from sklearn.ensemble import RandomForestClassifier\n",
    "from sklearn.inspection import permutation_importance\n",
    "import matplotlib.pyplot as plt\n",
    "import numpy as np\n",
    "\n",
    "forest = RandomForestClassifier(random_state=0)\n",
    "forest.fit(X, Y)\n",
    "\n",
    "result = permutation_importance(\n",
    "    forest, X, Y, n_repeats=10, random_state=42, n_jobs=2\n",
    ")\n",
    "\n",
    "forest_importances = pd.Series(result.importances_mean, index=X.columns)\n",
    "\n",
    "fig, ax = plt.subplots()\n",
    "forest_importances.plot.bar(yerr=result.importances_std, ax=ax)\n",
    "ax.set_title(\"Feature importances using permutation on full model\")\n",
    "ax.set_ylabel(\"Mean accuracy decrease\")\n",
    "fig.tight_layout()\n",
    "plt.show()"
   ]
  },
  {
   "cell_type": "markdown",
   "id": "cdedb326",
   "metadata": {},
   "source": [
    "Based on the graph above, we can exclude \"SibSp\", \"Parch\" and \"Embarked\" features."
   ]
  },
  {
   "cell_type": "code",
   "execution_count": 6,
   "id": "9d28f16e",
   "metadata": {},
   "outputs": [
    {
     "name": "stdout",
     "output_type": "stream",
     "text": [
      "Cross Validation Scores:  [0.8        0.78651685 0.76404494 0.84269663 0.7752809  0.76404494\n",
      " 0.75280899 0.74157303 0.82022472 0.7752809 ]\n",
      "Average model score: 0.782\n"
     ]
    }
   ],
   "source": [
    "model = GaussianNB()\n",
    "features = [\"Pclass\", \"Sex\", \"Age\", \"Fare\"]\n",
    "X = pd.get_dummies(train_data[features])\n",
    "Y = train_data[\"Survived\"]\n",
    "\n",
    "strat_k_fold = StratifiedKFold(n_splits=10)\n",
    "\n",
    "scores = cross_val_score(model, X, Y, cv = strat_k_fold)\n",
    "\n",
    "print(\"Cross Validation Scores: \", scores)\n",
    "print(\"Average model score: %.3f\" %scores.mean())"
   ]
  },
  {
   "cell_type": "markdown",
   "id": "2410c3a2",
   "metadata": {},
   "source": [
    "Now we can inspect more deeply important features"
   ]
  },
  {
   "cell_type": "code",
   "execution_count": 7,
   "id": "a6cdb84f",
   "metadata": {},
   "outputs": [
    {
     "data": {
      "image/png": "[encoded data removed]",
      "text/plain": [
       "<Figure size 432x288 with 1 Axes>"
      ]
     },
     "metadata": {
      "needs_background": "light"
     },
     "output_type": "display_data"
    }
   ],
   "source": [
    "N, bins, patches = plt.hist(train_data.loc[(train_data[\"Survived\"] == 1), [\"Sex\"]], bins=np.arange(3)-0.4, width=0.8)\n",
    "patches[0].set_facecolor('Orange')\n",
    "patches[1].set_facecolor('Green')\n",
    "plt.xticks(range(2))\n",
    "plt.xlim([-1,2])\n",
    "plt.show()"
   ]
  },
  {
   "cell_type": "code",
   "execution_count": 8,
   "id": "42ef7383",
   "metadata": {},
   "outputs": [
    {
     "data": {
      "image/png": "[encoded data removed]",
      "text/plain": [
       "<Figure size 432x288 with 1 Axes>"
      ]
     },
     "metadata": {
      "needs_background": "light"
     },
     "output_type": "display_data"
    }
   ],
   "source": [
    "N, bins, patches = plt.hist(train_data.loc[(train_data[\"Survived\"] == 1), [\"Pclass\"]], bins=np.arange(5)-0.4, width=0.8)\n",
    "patches[1].set_facecolor('Orange')\n",
    "patches[2].set_facecolor('Green')\n",
    "patches[3].set_facecolor('Blue')\n",
    "plt.xticks(range(4))\n",
    "plt.xlim([0,4])\n",
    "plt.show()"
   ]
  },
  {
   "cell_type": "code",
   "execution_count": 10,
   "id": "0f84d8ea",
   "metadata": {},
   "outputs": [
    {
     "data": {
      "image/png": "[encoded data removed]",
      "text/plain": [
       "<Figure size 432x288 with 1 Axes>"
      ]
     },
     "metadata": {
      "needs_background": "light"
     },
     "output_type": "display_data"
    }
   ],
   "source": [
    "N, bins, patches = plt.hist(train_data.loc[(train_data[\"Survived\"] == 1), [\"Age\"]])\n",
    "bins = bins.shape[0]-0.5\n",
    "colors = ['Orange', 'Green', 'Blue']\n",
    "temp = 0\n",
    "for p in patches:\n",
    "    p.set_facecolor(colors[temp%3])\n",
    "    temp+=1\n",
    "plt.show()"
   ]
  }
 ],
 "metadata": {
  "kernelspec": {
   "display_name": "Python 3",
   "language": "python",
   "name": "python3"
  },
  "language_info": {
   "codemirror_mode": {
    "name": "ipython",
    "version": 3
   },
   "file_extension": ".py",
   "mimetype": "text/x-python",
   "name": "python",
   "nbconvert_exporter": "python",
   "pygments_lexer": "ipython3",
   "version": "3.8.10"
  }
 },
 "nbformat": 4,
 "nbformat_minor": 5
}
