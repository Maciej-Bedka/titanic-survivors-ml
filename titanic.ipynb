{
 "cells": [
  {
   "cell_type": "markdown",
   "id": "61689c2d",
   "metadata": {},
   "source": [
    "# Survivors of Titanic"
   ]
  },
  {
   "cell_type": "markdown",
   "id": "5cdee9ab",
   "metadata": {},
   "source": [
    "dasdasdas"
   ]
  },
  {
   "cell_type": "markdown",
   "id": "721fa66e",
   "metadata": {},
   "source": [
    "## About a problem"
   ]
  },
  {
   "cell_type": "markdown",
   "id": "3e8b3408",
   "metadata": {},
   "source": [
    "# sdfsdfsd\n"
   ]
  },
  {
   "cell_type": "markdown",
   "id": "9c1905f2",
   "metadata": {},
   "source": [
    "Titanic crashed in 1912  on it's maiden voyage. This lead to over 1,500 casualities and around 710 survivors. High rate of causalities was determined by not engough safety boats being on the Titanic. <br>\n",
    "Based on data about passengers, it is possible to determine who, of new passengers, if crush would reocure, will have most chances to survive. It is also possible to check what features were most important for choosing survivors."
   ]
  },
  {
   "cell_type": "markdown",
   "id": "eebbb202",
   "metadata": {},
   "source": [
    "## Data"
   ]
  },
  {
   "cell_type": "markdown",
   "id": "4f8b840b",
   "metadata": {},
   "source": [
    "All data, as well as an idea for such project, was taken from https://www.kaggle.com/competitions/titanic. In this project ony \"train.csv\" will be used.<br><br>\n",
    "\n",
    "Data file contains 891 entries with 12 features:<br>\n",
    "    &emsp;PassengerId - Id for each passenger (0-890)<br>\n",
    "    &emsp;Survived - label ofr survived (0 - not survived, 1 - survived)<br>\n",
    "    &emsp;Pclass - class of ticket (1 - 1st class, 2 - 2nd class, 3 - 3rd class)<br>\n",
    "    &emsp;Sex - (male, female)<br>\n",
    "    &emsp;Age - age in years<br>\n",
    "    &emsp;Sibsp - number of siblings / spouses aboard the Titanic<br>\n",
    "    &emsp;Parch - numer of parents / children aboard the Titanic<br>\n",
    "    &emsp;Ticket - ticket number<br>\n",
    "    &emsp;Fare - passenger fare<br>\n",
    "    &emsp;Cabin - cabin number<br>\n",
    "    &emsp;Embarked - port of embarkation (C - Cherbourg, Q - Quennstown, S - Southampton<br>"
   ]
  },
  {
   "cell_type": "code",
   "execution_count": 1,
   "id": "d5380651",
   "metadata": {},
   "outputs": [
    {
     "name": "stdout",
     "output_type": "stream",
     "text": [
      "<class 'pandas.core.frame.DataFrame'>\n",
      "RangeIndex: 891 entries, 0 to 890\n",
      "Data columns (total 12 columns):\n",
      " #   Column       Non-Null Count  Dtype  \n",
      "---  ------       --------------  -----  \n",
      " 0   PassengerId  891 non-null    int64  \n",
      " 1   Survived     891 non-null    int64  \n",
      " 2   Pclass       891 non-null    int64  \n",
      " 3   Name         891 non-null    object \n",
      " 4   Sex          891 non-null    object \n",
      " 5   Age          714 non-null    float64\n",
      " 6   SibSp        891 non-null    int64  \n",
      " 7   Parch        891 non-null    int64  \n",
      " 8   Ticket       891 non-null    object \n",
      " 9   Fare         891 non-null    float64\n",
      " 10  Cabin        204 non-null    object \n",
      " 11  Embarked     889 non-null    object \n",
      "dtypes: float64(2), int64(5), object(5)\n",
      "memory usage: 83.7+ KB\n",
      "None\n"
     ]
    }
   ],
   "source": [
    "import numpy as np\n",
    "import pandas as pd\n",
    "\n",
    "train_data = pd.read_csv(\"./train.csv\")\n",
    "print(train_data.info())"
   ]
  },
  {
   "cell_type": "markdown",
   "id": "eedc4c8b",
   "metadata": {},
   "source": [
    "Based on the above, we can exclude \"Cabin\" feature, as it conatins to much \"NaN\" values.<br>\n",
    "Age values contains some \"NaNs\" so we will dill them with random values from min to max recorded ages.<br>\n",
    "Also we will exclude names, as this should not be important for classification."
   ]
  },
  {
   "cell_type": "code",
   "execution_count": 3,
   "id": "3514f2e5",
   "metadata": {},
   "outputs": [],
   "source": [
    "train_data.drop(columns=['PassengerId','Cabin', 'Name'], inplace=True, errors='ignore')\n",
    "train_data[\"Age\"].fillna(value=np.random.randint(train_data[\"Age\"].min(), train_data[\"Age\"].max(), dtype=int), inplace=True)"
   ]
  },
  {
   "cell_type": "code",
   "execution_count": 5,
   "id": "b1e46927",
   "metadata": {},
   "outputs": [
    {
     "name": "stdout",
     "output_type": "stream",
     "text": [
      "<class 'pandas.core.frame.DataFrame'>\n",
      "RangeIndex: 891 entries, 0 to 890\n",
      "Data columns (total 9 columns):\n",
      " #   Column    Non-Null Count  Dtype  \n",
      "---  ------    --------------  -----  \n",
      " 0   Survived  891 non-null    int64  \n",
      " 1   Pclass    891 non-null    int64  \n",
      " 2   Sex       891 non-null    object \n",
      " 3   Age       891 non-null    float64\n",
      " 4   SibSp     891 non-null    int64  \n",
      " 5   Parch     891 non-null    int64  \n",
      " 6   Ticket    891 non-null    object \n",
      " 7   Fare      891 non-null    float64\n",
      " 8   Embarked  889 non-null    object \n",
      "dtypes: float64(2), int64(4), object(3)\n",
      "memory usage: 62.8+ KB\n",
      "None\n"
     ]
    }
   ],
   "source": [
    "print(train_data.info())"
   ]
  },
  {
   "cell_type": "markdown",
   "id": "01e08883",
   "metadata": {},
   "source": [
    "Now we will try to build Gaussian Naive Bayes model with all featerues exluding \"Survived\" (label)."
   ]
  },
  {
   "cell_type": "code",
   "execution_count": null,
   "id": "75861193",
   "metadata": {},
   "outputs": [],
   "source": [
    "from sklearn.naive_bayes import GaussianNB\n",
    "from sklearn.metrics import accuracy_score\n",
    "from sklearn.model_selection import train_test_split\n",
    "\n",
    "model = GaussianNB()\n",
    "features = [\"Pclass\", \"Sex\", \"Age\", \"SibSp\", \"Parch\", \"Ticket\", \"Fare\", \"Embarked\"]\n",
    "X = pd.get_dummies(train_data[features])\n",
    "Y = train_data[\"Survived\"]"
   ]
  }
 ],
 "metadata": {
  "kernelspec": {
   "display_name": "Python 3",
   "language": "python",
   "name": "python3"
  },
  "language_info": {
   "codemirror_mode": {
    "name": "ipython",
    "version": 3
   },
   "file_extension": ".py",
   "mimetype": "text/x-python",
   "name": "python",
   "nbconvert_exporter": "python",
   "pygments_lexer": "ipython3",
   "version": "3.8.10"
  }
 },
 "nbformat": 4,
 "nbformat_minor": 5
}
